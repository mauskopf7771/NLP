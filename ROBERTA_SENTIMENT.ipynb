{
 "cells": [
  {
   "cell_type": "code",
   "execution_count": null,
   "id": "b7ea1506",
   "metadata": {},
   "outputs": [],
   "source": [
    "#Packages\n",
    "import nltk\n",
    "import pandas as pd\n",
    "import numpy as np\n",
    "import matplotlib.pyplot as plt\n",
    "import seaborn as sns\n",
    "import os\n",
    "plt.style.use('ggplot')\n",
    "from nltk.sentiment import SentimentIntensityAnalyzer \n",
    "from tqdm.notebook import tqdm"
   ]
  },
  {
   "cell_type": "code",
   "execution_count": null,
   "id": "5ff47dd0",
   "metadata": {},
   "outputs": [],
   "source": [
    "os.chdir('REDACTED')"
   ]
  },
  {
   "cell_type": "code",
   "execution_count": null,
   "id": "49118368",
   "metadata": {},
   "outputs": [],
   "source": [
    "df = pd.read_excel('REDACTED')\n",
    "df = df.dropna()\n",
    "df = df.head(50)\n",
    "df = df.reset_index()\n",
    "display(df)"
   ]
  },
  {
   "cell_type": "code",
   "execution_count": null,
   "id": "9471a608",
   "metadata": {},
   "outputs": [],
   "source": [
    "example = df['comment'][0]\n",
    "print(example)"
   ]
  },
  {
   "cell_type": "code",
   "execution_count": null,
   "id": "bcd2b788",
   "metadata": {},
   "outputs": [],
   "source": [
    "SIA = SentimentIntensityAnalyzer()"
   ]
  },
  {
   "cell_type": "code",
   "execution_count": null,
   "id": "891301d5",
   "metadata": {},
   "outputs": [],
   "source": [
    "from ipywidgets import FloatProgress\n",
    "res={}\n",
    "for i, row in tqdm(df.iterrows(), total=len(df)):\n",
    "    text = row['comment']\n",
    "    mansID = row['interactionid']\n",
    "    res[mansID] = SIA.polarity_scores(text)\n",
    "    #roberta_result = polarity_scores_roberta(text)\n",
    "    #break"
   ]
  },
  {
   "cell_type": "code",
   "execution_count": null,
   "id": "8df4f879",
   "metadata": {},
   "outputs": [],
   "source": [
    "x = pd.DataFrame(res).T\n",
    "x = x.reset_index()\n",
    "df = df.reset_index()"
   ]
  },
  {
   "cell_type": "code",
   "execution_count": null,
   "id": "cd223068",
   "metadata": {},
   "outputs": [],
   "source": [
    "df2 = pd.concat([x['compound'], df['sentiment_score']], axis = 1)\n",
    "df2 = df2.reset_index()\n",
    "df2 = df2.dropna()\n",
    "pd.set_option('display.max_rows', 100)\n",
    "display(df2)"
   ]
  },
  {
   "cell_type": "code",
   "execution_count": null,
   "id": "34a38503",
   "metadata": {},
   "outputs": [],
   "source": [
    "plt.scatter(df2['sentiment_score'], df2['compound'])"
   ]
  },
  {
   "cell_type": "code",
   "execution_count": null,
   "id": "f2ee42e3",
   "metadata": {},
   "outputs": [],
   "source": [
    "from scipy.stats import spearmanr\n",
    "rho, p = spearmanr(df2['compound'], df2['sentiment_score'])\n",
    "#print Spearman rank correlation and p-value\n",
    "print(rho)\n",
    "print(p)"
   ]
  },
  {
   "cell_type": "code",
   "execution_count": null,
   "id": "fb2243f7",
   "metadata": {},
   "outputs": [],
   "source": [
    "from scipy.stats import pearsonr\n",
    "r, p = pearsonr(df2['compound'], df2['sentiment_score'])\n",
    "print(r)\n",
    "print(p)"
   ]
  },
  {
   "cell_type": "code",
   "execution_count": null,
   "id": "05155243",
   "metadata": {},
   "outputs": [],
   "source": [
    "import statsmodels.formula.api as smf\n",
    "#fit OLS regression models\n",
    "lol = smf.ols('sentiment_score ~ compound', data=df2).fit()\n",
    "print(lol.summary())"
   ]
  },
  {
   "cell_type": "code",
   "execution_count": null,
   "id": "63bcd548",
   "metadata": {},
   "outputs": [],
   "source": [
    "import seaborn as sns\n",
    "sns.regplot(data = df2, x = df2['sentiment_score'], y = df2['compound'])"
   ]
  },
  {
   "cell_type": "code",
   "execution_count": null,
   "id": "7a15182c",
   "metadata": {},
   "outputs": [],
   "source": [
    "df2.loc[df2.compound.between(0.6, 1) , 'converted'] = 5\n",
    "df2.loc[df2.compound.between(0.1, 0.5) , 'converted'] = 4\n",
    "df2.loc[df2.compound.between(-0.1, 0.1) , 'converted'] = 3\n",
    "df2.loc[df2.compound.between(-0.5, 0.1) , 'converted'] = 2\n",
    "df2.loc[df2.compound.between(-1, -0.6) , 'converted'] = 1\n",
    "display(df2)"
   ]
  },
  {
   "cell_type": "code",
   "execution_count": null,
   "id": "944131a4",
   "metadata": {},
   "outputs": [],
   "source": [
    "plt.plot(df2['converted'], df2['sentiment_score'])"
   ]
  }
 ],
 "metadata": {
  "kernelspec": {
   "display_name": "Python 3 (ipykernel)",
   "language": "python",
   "name": "python3"
  },
  "language_info": {
   "codemirror_mode": {
    "name": "ipython",
    "version": 3
   },
   "file_extension": ".py",
   "mimetype": "text/x-python",
   "name": "python",
   "nbconvert_exporter": "python",
   "pygments_lexer": "ipython3",
   "version": "3.9.7"
  }
 },
 "nbformat": 4,
 "nbformat_minor": 5
}
